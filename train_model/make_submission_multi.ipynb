{
 "cells": [
  {
   "cell_type": "code",
   "id": "initial_id",
   "metadata": {
    "collapsed": true,
    "ExecuteTime": {
     "end_time": "2024-06-16T04:27:54.077133Z",
     "start_time": "2024-06-16T04:27:52.575205Z"
    }
   },
   "source": [
    "from ultralytics import YOLO\n",
    "from pathlib import Path\n",
    "\n",
    "import pandas as pd\n",
    "from tqdm import tqdm"
   ],
   "outputs": [
    {
     "name": "stderr",
     "output_type": "stream",
     "text": [
      "/home/simba9/miniconda3/envs/ultralytics/lib/python3.11/site-packages/requests/__init__.py:86: RequestsDependencyWarning: Unable to find acceptable character detection dependency (chardet or charset_normalizer).\n",
      "  warnings.warn(\n"
     ]
    }
   ],
   "execution_count": 2
  },
  {
   "metadata": {
    "ExecuteTime": {
     "end_time": "2024-06-16T04:27:54.081384Z",
     "start_time": "2024-06-16T04:27:54.078263Z"
    }
   },
   "cell_type": "code",
   "source": "file_image_lists = list(Path(\"./test_dataset\").rglob(\"*.jpg\"))",
   "id": "5a8220a8b7da73d9",
   "outputs": [],
   "execution_count": 3
  },
  {
   "metadata": {
    "ExecuteTime": {
     "end_time": "2024-06-16T04:27:54.314029Z",
     "start_time": "2024-06-16T04:27:54.082062Z"
    }
   },
   "cell_type": "code",
   "source": [
    "model_adj = YOLO(\"/home/simba9/pet/shov/runs/detect/only_adj/weights/best.pt\")\n",
    "model_geo = YOLO(\"/home/simba9/pet/shov/runs/detect/only_geo/weights/best.pt\")\n",
    "model_int = YOLO(\"/home/simba9/pet/shov/runs/detect/only_int/weights/best.pt\")\n",
    "model_non = YOLO(\"/home/simba9/pet/shov/runs/detect/only_non/weights/best.pt\")\n",
    "model_pro = YOLO(\"/home/simba9/pet/shov/runs/detect/only_pro/weights/best.pt\")"
   ],
   "id": "988ee3460279e078",
   "outputs": [],
   "execution_count": 4
  },
  {
   "metadata": {
    "ExecuteTime": {
     "end_time": "2024-06-16T04:30:06.538088Z",
     "start_time": "2024-06-16T04:30:06.535647Z"
    }
   },
   "cell_type": "code",
   "source": [
    "df = pd.DataFrame({\n",
    "    \"filename\": [],\n",
    "    \"class_id\": [],\n",
    "    \"rel_x\": [],\n",
    "    \"rel_y\": [],\n",
    "    \"width\": [],\n",
    "    \"height\": []\n",
    "})"
   ],
   "id": "50da45587522b95f",
   "outputs": [],
   "execution_count": 6
  },
  {
   "metadata": {
    "ExecuteTime": {
     "end_time": "2024-06-16T04:30:37.739614Z",
     "start_time": "2024-06-16T04:30:06.932179Z"
    }
   },
   "cell_type": "code",
   "source": [
    "for image_path in tqdm(file_image_lists):\n",
    "    results = model_adj(image_path, verbose=False)\n",
    "    for box  in results[0].boxes:\n",
    "        x,y,w,h = box.xywhn.cpu().numpy().tolist()[0]\n",
    "        cls = 0\n",
    "        df = pd.concat([pd.DataFrame([[image_path.name, cls, x,y,w,h]], columns=df.columns), df], ignore_index=True)\n",
    "\n",
    "    results = model_int(image_path, verbose=False)\n",
    "    for box  in results[0].boxes:\n",
    "        x,y,w,h = box.xywhn.cpu().numpy().tolist()[0]\n",
    "        cls = 1\n",
    "        df = pd.concat([pd.DataFrame([[image_path.name, cls, x,y,w,h]], columns=df.columns), df], ignore_index=True)\n",
    "    \n",
    "    results = model_geo(image_path, verbose=False)\n",
    "    for box  in results[0].boxes:\n",
    "        x,y,w,h = box.xywhn.cpu().numpy().tolist()[0]\n",
    "        cls = 2\n",
    "        df = pd.concat([pd.DataFrame([[image_path.name, cls, x,y,w,h]], columns=df.columns), df], ignore_index=True)\n",
    "\n",
    "    results = model_pro(image_path, verbose=False)\n",
    "    for box  in results[0].boxes:\n",
    "        x,y,w,h = box.xywhn.cpu().numpy().tolist()[0]\n",
    "        cls = 3\n",
    "        df = pd.concat([pd.DataFrame([[image_path.name, cls, x,y,w,h]], columns=df.columns), df], ignore_index=True)\n",
    "\n",
    "    results = model_non(image_path, verbose=False)\n",
    "    for box  in results[0].boxes:\n",
    "        x,y,w,h = box.xywhn.cpu().numpy().tolist()[0]\n",
    "        cls = 4\n",
    "        df = pd.concat([pd.DataFrame([[image_path.name, cls, x,y,w,h]], columns=df.columns), df], ignore_index=True)\n",
    "df.class_id = df.class_id.astype(int)"
   ],
   "id": "7438d8f810505479",
   "outputs": [
    {
     "name": "stderr",
     "output_type": "stream",
     "text": [
      "100%|██████████| 363/363 [00:30<00:00, 11.79it/s]\n"
     ]
    }
   ],
   "execution_count": 7
  },
  {
   "metadata": {
    "ExecuteTime": {
     "end_time": "2024-06-16T04:30:44.137949Z",
     "start_time": "2024-06-16T04:30:44.133732Z"
    }
   },
   "cell_type": "code",
   "source": "df.to_csv(\"sumbission.csv\", index=False, sep=\";\")",
   "id": "6a9668c3d6714eac",
   "outputs": [],
   "execution_count": 8
  },
  {
   "metadata": {},
   "cell_type": "code",
   "outputs": [],
   "execution_count": null,
   "source": "",
   "id": "5916e8bf7c8f7456"
  }
 ],
 "metadata": {
  "kernelspec": {
   "display_name": "Python 3",
   "language": "python",
   "name": "python3"
  },
  "language_info": {
   "codemirror_mode": {
    "name": "ipython",
    "version": 2
   },
   "file_extension": ".py",
   "mimetype": "text/x-python",
   "name": "python",
   "nbconvert_exporter": "python",
   "pygments_lexer": "ipython2",
   "version": "2.7.6"
  }
 },
 "nbformat": 4,
 "nbformat_minor": 5
}
