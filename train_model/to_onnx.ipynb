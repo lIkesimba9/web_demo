{
 "cells": [
  {
   "metadata": {
    "ExecuteTime": {
     "end_time": "2024-06-15T22:09:10.137814Z",
     "start_time": "2024-06-15T22:09:08.464799Z"
    }
   },
   "cell_type": "code",
   "source": "from ultralytics import YOLO",
   "id": "6add4c61ca6aed7c",
   "outputs": [
    {
     "name": "stderr",
     "output_type": "stream",
     "text": [
      "/home/simba9/miniconda3/envs/ultralytics/lib/python3.11/site-packages/requests/__init__.py:86: RequestsDependencyWarning: Unable to find acceptable character detection dependency (chardet or charset_normalizer).\n",
      "  warnings.warn(\n"
     ]
    }
   ],
   "execution_count": 1
  },
  {
   "metadata": {
    "ExecuteTime": {
     "end_time": "2024-06-15T22:09:40.893673Z",
     "start_time": "2024-06-15T22:09:35.677976Z"
    }
   },
   "cell_type": "code",
   "source": [
    "model = YOLO(\"/home/simba9/pet/shov/runs/detect/only_int/weights/best.pt\")\n",
    "\n",
    "# Export the model\n",
    "onnx_file = model.export(format=\"onnx\", dynamic=True)"
   ],
   "id": "38bf855d1cc40298",
   "outputs": [
    {
     "name": "stdout",
     "output_type": "stream",
     "text": [
      "Ultralytics YOLOv8.2.31 🚀 Python-3.11.9 torch-2.3.1+cu121 CPU (AMD Ryzen 9 5900X 12-Core Processor)\n",
      "Model summary (fused): 168 layers, 3005843 parameters, 0 gradients, 8.1 GFLOPs\n",
      "\n",
      "\u001B[34m\u001B[1mPyTorch:\u001B[0m starting from '/home/simba9/pet/shov/runs/detect/only_int/weights/best.pt' with input shape (1, 3, 1920, 1920) BCHW and output shape(s) (1, 5, 75600) (6.2 MB)\n",
      "\n",
      "\u001B[34m\u001B[1mONNX:\u001B[0m starting export with onnx 1.16.1 opset 17...\n",
      "\u001B[34m\u001B[1mONNX:\u001B[0m export success ✅ 1.7s, saved as '/home/simba9/pet/shov/runs/detect/only_int/weights/best.onnx' (11.5 MB)\n",
      "\n",
      "Export complete (5.2s)\n",
      "Results saved to \u001B[1m/home/simba9/pet/shov/runs/detect/only_int/weights\u001B[0m\n",
      "Predict:         yolo predict task=detect model=/home/simba9/pet/shov/runs/detect/only_int/weights/best.onnx imgsz=1920  \n",
      "Validate:        yolo val task=detect model=/home/simba9/pet/shov/runs/detect/only_int/weights/best.onnx imgsz=1920 data=shov_int.yml  \n",
      "Visualize:       https://netron.app\n"
     ]
    }
   ],
   "execution_count": 4
  },
  {
   "metadata": {},
   "cell_type": "code",
   "outputs": [],
   "execution_count": null,
   "source": "",
   "id": "175e45ad029f59da"
  }
 ],
 "metadata": {
  "kernelspec": {
   "display_name": "Python 3",
   "language": "python",
   "name": "python3"
  },
  "language_info": {
   "codemirror_mode": {
    "name": "ipython",
    "version": 2
   },
   "file_extension": ".py",
   "mimetype": "text/x-python",
   "name": "python",
   "nbconvert_exporter": "python",
   "pygments_lexer": "ipython2",
   "version": "2.7.6"
  }
 },
 "nbformat": 4,
 "nbformat_minor": 5
}
