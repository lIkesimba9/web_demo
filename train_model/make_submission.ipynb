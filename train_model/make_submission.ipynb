{
 "cells": [
  {
   "cell_type": "code",
   "id": "initial_id",
   "metadata": {
    "collapsed": true,
    "ExecuteTime": {
     "end_time": "2024-06-16T04:22:09.294254Z",
     "start_time": "2024-06-16T04:22:07.522569Z"
    }
   },
   "source": [
    "from ultralytics import YOLO\n",
    "from pathlib import Path\n",
    "\n",
    "import pandas as pd\n",
    "from tqdm import tqdm"
   ],
   "outputs": [
    {
     "name": "stderr",
     "output_type": "stream",
     "text": [
      "/home/simba9/miniconda3/envs/ultralytics/lib/python3.11/site-packages/requests/__init__.py:86: RequestsDependencyWarning: Unable to find acceptable character detection dependency (chardet or charset_normalizer).\n",
      "  warnings.warn(\n"
     ]
    }
   ],
   "execution_count": 1
  },
  {
   "metadata": {
    "ExecuteTime": {
     "end_time": "2024-06-16T04:22:52.497424Z",
     "start_time": "2024-06-16T04:22:52.494262Z"
    }
   },
   "cell_type": "code",
   "source": "file_image_lists = list(Path(\"./test_dataset\").rglob(\"*.jpg\"))",
   "id": "5a8220a8b7da73d9",
   "outputs": [],
   "execution_count": 2
  },
  {
   "metadata": {
    "ExecuteTime": {
     "end_time": "2024-06-16T04:22:53.085071Z",
     "start_time": "2024-06-16T04:22:53.043906Z"
    }
   },
   "cell_type": "code",
   "source": "model = YOLO(\"/home/simba9/pet/shov/runs/detect/0.8648825873387556 data_old_run_1080_full/weights/best.pt\")",
   "id": "988ee3460279e078",
   "outputs": [],
   "execution_count": 3
  },
  {
   "metadata": {
    "ExecuteTime": {
     "end_time": "2024-06-16T04:22:55.605689Z",
     "start_time": "2024-06-16T04:22:54.413352Z"
    }
   },
   "cell_type": "code",
   "source": "results = model(file_image_lists[0]) ",
   "id": "af1dca1b2ee18bc2",
   "outputs": [
    {
     "name": "stdout",
     "output_type": "stream",
     "text": [
      "\n",
      "image 1/1 /home/simba9/pet/shov/test_dataset/12.jpg: 640x1088 2 adjs, 61.7ms\n",
      "Speed: 7.3ms preprocess, 61.7ms inference, 273.4ms postprocess per image at shape (1, 3, 640, 1088)\n"
     ]
    }
   ],
   "execution_count": 4
  },
  {
   "metadata": {
    "ExecuteTime": {
     "end_time": "2024-06-16T04:22:59.762729Z",
     "start_time": "2024-06-16T04:22:59.758923Z"
    }
   },
   "cell_type": "code",
   "source": "results[0].names",
   "id": "b5030140e3032a34",
   "outputs": [
    {
     "data": {
      "text/plain": [
       "{0: 'adj', 1: 'int', 2: 'geo', 3: 'pro', 4: 'non'}"
      ]
     },
     "execution_count": 5,
     "metadata": {},
     "output_type": "execute_result"
    }
   ],
   "execution_count": 5
  },
  {
   "metadata": {
    "ExecuteTime": {
     "end_time": "2024-06-16T04:23:01.987482Z",
     "start_time": "2024-06-16T04:23:01.985611Z"
    }
   },
   "cell_type": "code",
   "source": "#dir(results[0])",
   "id": "bec3dc89dc4df1d",
   "outputs": [],
   "execution_count": 6
  },
  {
   "metadata": {
    "ExecuteTime": {
     "end_time": "2024-06-16T04:23:02.281687Z",
     "start_time": "2024-06-16T04:23:02.279459Z"
    }
   },
   "cell_type": "code",
   "source": [
    "df = pd.DataFrame({\n",
    "    \"filename\": [],\n",
    "    \"class_id\": [],\n",
    "    \"rel_x\": [],\n",
    "    \"rel_y\": [],\n",
    "    \"width\": [],\n",
    "    \"height\": []\n",
    "})"
   ],
   "id": "50da45587522b95f",
   "outputs": [],
   "execution_count": 7
  },
  {
   "metadata": {
    "ExecuteTime": {
     "end_time": "2024-06-16T04:23:08.177598Z",
     "start_time": "2024-06-16T04:23:03.955297Z"
    }
   },
   "cell_type": "code",
   "source": [
    "for image_path in tqdm(file_image_lists):\n",
    "    results = model(image_path, verbose=False)\n",
    "    for box, cls  in zip(results[0].boxes, results[0].boxes.cls):\n",
    "        x,y,w,h = box.xywhn.cpu().numpy().tolist()[0]\n",
    "        cls = int(cls.cpu().item())\n",
    "        df = pd.concat([pd.DataFrame([[image_path.name, cls, x,y,w,h]], columns=df.columns), df], ignore_index=True)\n",
    "df.class_id = df.class_id.astype(int)"
   ],
   "id": "7438d8f810505479",
   "outputs": [
    {
     "name": "stderr",
     "output_type": "stream",
     "text": [
      "100%|██████████| 363/363 [00:04<00:00, 86.07it/s]\n"
     ]
    }
   ],
   "execution_count": 8
  },
  {
   "metadata": {
    "ExecuteTime": {
     "end_time": "2024-06-16T04:23:08.191486Z",
     "start_time": "2024-06-16T04:23:08.178433Z"
    }
   },
   "cell_type": "code",
   "source": "df.to_csv(\"sumbission.csv\", index=False, sep=\";\")",
   "id": "6a9668c3d6714eac",
   "outputs": [],
   "execution_count": 9
  },
  {
   "metadata": {},
   "cell_type": "code",
   "outputs": [],
   "execution_count": null,
   "source": "",
   "id": "5916e8bf7c8f7456"
  }
 ],
 "metadata": {
  "kernelspec": {
   "display_name": "Python 3",
   "language": "python",
   "name": "python3"
  },
  "language_info": {
   "codemirror_mode": {
    "name": "ipython",
    "version": 2
   },
   "file_extension": ".py",
   "mimetype": "text/x-python",
   "name": "python",
   "nbconvert_exporter": "python",
   "pygments_lexer": "ipython2",
   "version": "2.7.6"
  }
 },
 "nbformat": 4,
 "nbformat_minor": 5
}
