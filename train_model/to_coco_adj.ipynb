{
 "cells": [
  {
   "cell_type": "code",
   "id": "initial_id",
   "metadata": {
    "collapsed": true,
    "ExecuteTime": {
     "end_time": "2024-06-15T17:22:23.685881Z",
     "start_time": "2024-06-15T17:22:23.683647Z"
    }
   },
   "source": [
    "from pathlib import Path\n",
    "import pandas as pd\n",
    "import yaml\n",
    "from tqdm import tqdm\n",
    "import cv2\n",
    "import shutil\n",
    "import numpy as np\n",
    "np.random.seed(42)\n",
    "\n",
    "class_name_to_id = {\n",
    "    \"adj\" : \"0\",\n",
    "    \"int\": \"1\",\n",
    "    \"geo\": \"2\",\n",
    "    \"pro\": \"3\",\n",
    "    \"non\": \"4\"\n",
    "}"
   ],
   "outputs": [],
   "execution_count": 9
  },
  {
   "metadata": {
    "ExecuteTime": {
     "end_time": "2024-06-15T17:22:24.299538Z",
     "start_time": "2024-06-15T17:22:24.296678Z"
    }
   },
   "cell_type": "code",
   "source": [
    "class_name = \"adj\"\n",
    "dataset_name = f\"data_{class_name}\"\n",
    "source_dataset_dir = Path('./dataset')\n",
    "classes_path = source_dataset_dir / 'classes.txt'\n",
    "images_dir = Path(f'{dataset_name}/images')\n",
    "\n",
    "labels_dir = Path(f'{dataset_name}/labels')\n",
    "(images_dir / \"train\").mkdir(exist_ok=True, parents=True)\n",
    "(images_dir / \"val\").mkdir(exist_ok=True, parents=True)\n",
    "(labels_dir / \"train\").mkdir(exist_ok=True, parents=True)\n",
    "(labels_dir / \"val\").mkdir(exist_ok=True, parents=True)\n"
   ],
   "id": "93c7984cf0288f5",
   "outputs": [],
   "execution_count": 10
  },
  {
   "metadata": {
    "ExecuteTime": {
     "end_time": "2024-06-15T17:22:28.216671Z",
     "start_time": "2024-06-15T17:22:28.214016Z"
    }
   },
   "cell_type": "code",
   "source": [
    "def get_only_one_class(class_name: str, txt_file: Path):\n",
    "    annotation = open(txt_file).read()\n",
    "    new_annotation = []\n",
    "    for i, line in enumerate(annotation.splitlines()):\n",
    "        class_id, *points = line.split()\n",
    "        if class_name_to_id[class_name] == class_id:\n",
    "            new_annotation.append('0' + line[1:])\n",
    "    return new_annotation"
   ],
   "id": "16cbee9ea8dfe624",
   "outputs": [],
   "execution_count": 11
  },
  {
   "metadata": {
    "ExecuteTime": {
     "end_time": "2024-06-15T17:22:29.307373Z",
     "start_time": "2024-06-15T17:22:28.691009Z"
    }
   },
   "cell_type": "code",
   "source": [
    "for txt_file in tqdm(source_dataset_dir.glob('*.txt')):\n",
    "    if \"classes\" in txt_file.stem:\n",
    "        continue\n",
    "    image_file = txt_file.with_suffix(\".jpg\")\n",
    "    class_data = get_only_one_class(class_name, txt_file)\n",
    "    if len(class_data) > 0:\n",
    "        subfolder = Path(\"train\") if np.random.rand() < 0.9 else Path(\"val\")\n",
    "        shutil.copy(txt_file, labels_dir / subfolder / txt_file.name)\n",
    "        with open(labels_dir / subfolder / txt_file.name, 'wt') as fil:\n",
    "            fil.write(\"\\n\".join(class_data))\n",
    "        shutil.copy(image_file, images_dir / subfolder / image_file.name)"
   ],
   "id": "b6f5cbb463c2b002",
   "outputs": [
    {
     "name": "stderr",
     "output_type": "stream",
     "text": [
      "1163it [00:00, 1898.48it/s]\n"
     ]
    }
   ],
   "execution_count": 12
  },
  {
   "metadata": {
    "ExecuteTime": {
     "end_time": "2024-06-15T17:22:29.806254Z",
     "start_time": "2024-06-15T17:22:29.803173Z"
    }
   },
   "cell_type": "code",
   "source": [
    "import yaml\n",
    "result_yaml = {\n",
    "    \"path\": f\"/home/simba9/pet/shov/{dataset_name}\",\n",
    "    \"train\": \"images/train\",\n",
    "    \"val\": \"images/val\"\n",
    "}\n",
    "with open(classes_path) as f:\n",
    "    names = []\n",
    "    for line in f:\n",
    "        names.append(line.strip())\n",
    "    \n",
    "    result_yaml[\"names\"] = {\n",
    "        0: class_name\n",
    "    }\n",
    "with open(Path(f'./shov_{class_name}.yml'), 'w') as yaml_file:\n",
    "    yaml.dump(result_yaml, yaml_file, default_flow_style=False)\n"
   ],
   "id": "b69cb40c1e32e949",
   "outputs": [],
   "execution_count": 13
  },
  {
   "metadata": {},
   "cell_type": "code",
   "outputs": [],
   "execution_count": null,
   "source": "",
   "id": "1480b47c719d5dcd"
  }
 ],
 "metadata": {
  "kernelspec": {
   "display_name": "Python 3",
   "language": "python",
   "name": "python3"
  },
  "language_info": {
   "codemirror_mode": {
    "name": "ipython",
    "version": 2
   },
   "file_extension": ".py",
   "mimetype": "text/x-python",
   "name": "python",
   "nbconvert_exporter": "python",
   "pygments_lexer": "ipython2",
   "version": "2.7.6"
  }
 },
 "nbformat": 4,
 "nbformat_minor": 5
}
