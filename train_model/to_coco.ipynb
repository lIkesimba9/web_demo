{
 "cells": [
  {
   "cell_type": "code",
   "id": "initial_id",
   "metadata": {
    "collapsed": true,
    "ExecuteTime": {
     "end_time": "2024-06-14T19:23:13.136278Z",
     "start_time": "2024-06-14T19:23:13.134250Z"
    }
   },
   "source": [
    "from pathlib import Path\n",
    "import pandas as pd\n",
    "import yaml\n",
    "from tqdm import tqdm\n",
    "import cv2\n",
    "import shutil\n",
    "import numpy as np\n",
    "np.random.seed(42)"
   ],
   "outputs": [],
   "execution_count": 4
  },
  {
   "metadata": {
    "ExecuteTime": {
     "end_time": "2024-06-14T19:23:13.838447Z",
     "start_time": "2024-06-14T19:23:13.835637Z"
    }
   },
   "cell_type": "code",
   "source": [
    "source_dataset_dir = Path('./dataset')\n",
    "classes_path = source_dataset_dir / 'classes.txt'\n",
    "images_dir = Path('data_old/images')\n",
    "\n",
    "labels_dir = Path('data_old/labels')\n",
    "(images_dir / \"train\").mkdir(exist_ok=True, parents=True)\n",
    "(images_dir / \"val\").mkdir(exist_ok=True, parents=True)\n",
    "(labels_dir / \"train\").mkdir(exist_ok=True, parents=True)\n",
    "(labels_dir / \"val\").mkdir(exist_ok=True, parents=True)\n"
   ],
   "id": "93c7984cf0288f5",
   "outputs": [],
   "execution_count": 5
  },
  {
   "metadata": {
    "ExecuteTime": {
     "end_time": "2024-06-14T19:28:35.478988Z",
     "start_time": "2024-06-14T19:28:31.822456Z"
    }
   },
   "cell_type": "code",
   "source": [
    "for txt_file in tqdm(source_dataset_dir.glob('*.txt')):\n",
    "    if \"classes\" in txt_file.stem:\n",
    "        continue\n",
    "    image_file = txt_file.with_suffix(\".jpg\")\n",
    "    subfolder = Path(\"train\") if np.random.rand() < 0.9 else Path(\"val\")\n",
    "    shutil.copy(txt_file, labels_dir / subfolder / txt_file.name)\n",
    "    shutil.copy(image_file, images_dir / subfolder / image_file.name)"
   ],
   "id": "b6f5cbb463c2b002",
   "outputs": [
    {
     "name": "stderr",
     "output_type": "stream",
     "text": [
      "1163it [00:03, 318.39it/s]\n"
     ]
    }
   ],
   "execution_count": 21
  },
  {
   "metadata": {
    "ExecuteTime": {
     "end_time": "2024-06-14T19:28:41.825063Z",
     "start_time": "2024-06-14T19:28:41.821709Z"
    }
   },
   "cell_type": "code",
   "source": [
    "import yaml\n",
    "result_yaml = {\n",
    "    \"path\": \"/home/simba9/pet/shov/data_new\",\n",
    "    \"train\": \"images/train\",\n",
    "    \"val\": \"images/val\"\n",
    "}\n",
    "with open(classes_path) as f:\n",
    "    names = []\n",
    "    for line in f:\n",
    "        names.append(line.strip())\n",
    "    \n",
    "    result_yaml[\"names\"] = dict(zip(list(range(len(names))), names))\n",
    "with open(Path('./shov.yml'), 'w') as yaml_file:\n",
    "    yaml.dump(result_yaml, yaml_file, default_flow_style=False)\n"
   ],
   "id": "b69cb40c1e32e949",
   "outputs": [],
   "execution_count": 22
  },
  {
   "metadata": {},
   "cell_type": "code",
   "outputs": [],
   "execution_count": null,
   "source": "",
   "id": "1480b47c719d5dcd"
  }
 ],
 "metadata": {
  "kernelspec": {
   "display_name": "Python 3",
   "language": "python",
   "name": "python3"
  },
  "language_info": {
   "codemirror_mode": {
    "name": "ipython",
    "version": 2
   },
   "file_extension": ".py",
   "mimetype": "text/x-python",
   "name": "python",
   "nbconvert_exporter": "python",
   "pygments_lexer": "ipython2",
   "version": "2.7.6"
  }
 },
 "nbformat": 4,
 "nbformat_minor": 5
}
